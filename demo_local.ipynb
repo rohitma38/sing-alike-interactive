{
 "cells": [
  {
   "cell_type": "markdown",
   "metadata": {
    "id": "o-BliYu7qgAZ"
   },
   "source": [
    "### Import required packages"
   ]
  },
  {
   "cell_type": "code",
   "execution_count": null,
   "metadata": {
    "id": "JfXk_mYTQdRo"
   },
   "outputs": [],
   "source": [
    "from resemblyzer import VoiceEncoder, preprocess_wav\n",
    "import numpy as np\n",
    "from umap import UMAP\n",
    "import matplotlib.pyplot as plt\n",
    "import librosa\n",
    "import os\n",
    "import sys\n",
    "import pickle as pkl\n",
    "import pyaudio\n",
    "import wave\n",
    "import struct"
   ]
  },
  {
   "cell_type": "markdown",
   "metadata": {
    "id": "AEmIMldRdW1u"
   },
   "source": [
    "### To enable microphone input"
   ]
  },
  {
   "cell_type": "code",
   "execution_count": null,
   "metadata": {
    "id": "B2RvyCwwXWEA"
   },
   "outputs": [],
   "source": [
    "fs=16000\n",
    "FRAMESIZE = 1024\n",
    "FORMAT = pyaudio.paInt16\n",
    "CHANNELS = 1\n",
    "RATE = 16000\n",
    "RECORD_SECONDS = 10\n",
    "NOFRAMES = int(RATE*RECORD_SECONDS // FRAMESIZE)\n",
    "p = pyaudio.PyAudio()"
   ]
  },
  {
   "cell_type": "markdown",
   "metadata": {},
   "source": [
    "### Load some required pretrained files and define a plotting function to visualise the artist clusters"
   ]
  },
  {
   "cell_type": "code",
   "execution_count": null,
   "metadata": {
    "colab": {
     "base_uri": "https://localhost:8080/",
     "height": 88
    },
    "id": "QCGYpSxKQn9N",
    "outputId": "82afa272-dfe1-47e4-a02f-1b09b15b46c6"
   },
   "outputs": [],
   "source": [
    "encoder = VoiceEncoder()\n",
    "reducer = pkl.load(open('reducer.sav','rb'))\n",
    "knn = pkl.load(open('knn_model.sav','rb'))\n",
    "projs = np.load('projections.npy')\n",
    "labels = np.load('labels.npy')\n",
    "\n",
    "singers = ['Arijit', 'Atif', 'Lata', 'Chinmayi']\n",
    "cluster_coords = [(12.3,1.3),(12.3,13),(-4,-2),(-4,16)]\n",
    "\n",
    "def plot_projection(projs_gt, labels_gt, projs_test):\n",
    "  fig = plt.figure()\n",
    "  ax = fig.add_subplot(111)\n",
    "  ax.scatter(projs_gt[:,0],projs_gt[:,1],c=labels)\n",
    "\n",
    "  for i in range(len(singers)):\n",
    "    plt.annotate(singers[i],cluster_coords[i])\n",
    "\n",
    "  for item in projs_test:\n",
    "    ax.scatter(item[0],item[1],color='black',marker='+')\n",
    "\n",
    "  plt.show()\n",
    "  return"
   ]
  },
  {
   "cell_type": "markdown",
   "metadata": {},
   "source": [
    "### Aaand, time to play!"
   ]
  },
  {
   "cell_type": "code",
   "execution_count": null,
   "metadata": {
    "id": "Oupl2aB_iXDo"
   },
   "outputs": [],
   "source": [
    "prediction_history=[]"
   ]
  },
  {
   "cell_type": "markdown",
   "metadata": {
    "id": "K3jNVBHbA2NN"
   },
   "source": [
    "Running below cell will record for 10 seconds from your mic, compare your voice to 4 popular singers that are currently stored in the system - Arijit Singh (red), Atif Aslam (blue), Lata Mangeshkar (green) and Chinmayi (cyan), and plot your voice as a 'x' mark along with the clusters corresponding to the artists in a 2-d space."
   ]
  },
  {
   "cell_type": "code",
   "execution_count": null,
   "metadata": {
    "colab": {
     "base_uri": "https://localhost:8080/",
     "height": 336
    },
    "id": "YjOIHb5-Rxhf",
    "outputId": "cda8c3c4-dafd-4ba5-a388-9eb7012b91d8"
   },
   "outputs": [],
   "source": [
    "print('Recording')\n",
    "stream = p.open(format=FORMAT,channels=1,rate=RATE,input=True,frames_per_buffer=FRAMESIZE)\n",
    "data = stream.read(NOFRAMES*FRAMESIZE)\n",
    "decoded = np.frombuffer(data, dtype=np.int16)\n",
    "stream.stop_stream()\n",
    "stream.close()\n",
    "\n",
    "embed = encoder.embed_utterance(decoded/np.max(decoded))\n",
    "proj = reducer.transform([embed])\n",
    "print('You sound most like: %s!'%singers[knn.predict(proj)[0]])\n",
    "prediction_history.append([proj[0][0],proj[0][1]])\n",
    "plot_projection(projs,labels,prediction_history)"
   ]
  },
  {
   "cell_type": "markdown",
   "metadata": {},
   "source": [
    "Run above cell repeatedly to continue playing with this demo! One fun thing to try would be to check how your voice sample's embedding changes when you sound male versus when you sound female. Have fun! :D"
   ]
  },
  {
   "cell_type": "code",
   "execution_count": null,
   "metadata": {
    "colab": {
     "base_uri": "https://localhost:8080/",
     "height": 1000
    },
    "id": "fWezBkbBipcp",
    "outputId": "a9470b48-356c-450f-c072-1dc5a13947cb"
   },
   "outputs": [],
   "source": [
    "# when you're all done\n",
    "p.terminate()\n",
    "plt.close()"
   ]
  }
 ],
 "metadata": {
  "colab": {
   "name": "demo.ipynb",
   "provenance": []
  },
  "kernelspec": {
   "display_name": "Python 3",
   "language": "python",
   "name": "python3"
  },
  "language_info": {
   "codemirror_mode": {
    "name": "ipython",
    "version": 3
   },
   "file_extension": ".py",
   "mimetype": "text/x-python",
   "name": "python",
   "nbconvert_exporter": "python",
   "pygments_lexer": "ipython3",
   "version": "3.6.9"
  }
 },
 "nbformat": 4,
 "nbformat_minor": 1
}
