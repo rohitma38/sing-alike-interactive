{
  "nbformat": 4,
  "nbformat_minor": 0,
  "metadata": {
    "colab": {
      "name": "Untitled6.ipynb",
      "provenance": []
    },
    "kernelspec": {
      "name": "python3",
      "display_name": "Python 3"
    }
  },
  "cells": [
    {
      "cell_type": "code",
      "metadata": {
        "id": "H2fLJFL9QQw7",
        "outputId": "e269fc9e-9a76-4750-f5fc-b78991800a3d",
        "colab": {
          "base_uri": "https://localhost:8080/",
          "height": 663
        }
      },
      "source": [
        "!pip install resemblyzer"
      ],
      "execution_count": 1,
      "outputs": [
        {
          "output_type": "stream",
          "text": [
            "Collecting resemblyzer\n",
            "\u001b[?25l  Downloading https://files.pythonhosted.org/packages/e0/21/f0a22ee4afd9e5d9790b04329accdb71d2cf89ffaf5bb0611fb37cd91782/Resemblyzer-0.1.1.dev0-py3-none-any.whl (15.7MB)\n",
            "\u001b[K     |████████████████████████████████| 15.7MB 269kB/s \n",
            "\u001b[?25hCollecting webrtcvad>=2.0.10\n",
            "\u001b[?25l  Downloading https://files.pythonhosted.org/packages/89/34/e2de2d97f3288512b9ea56f92e7452f8207eb5a0096500badf9dfd48f5e6/webrtcvad-2.0.10.tar.gz (66kB)\n",
            "\u001b[K     |████████████████████████████████| 71kB 7.0MB/s \n",
            "\u001b[?25hRequirement already satisfied: torch>=1.0.1 in /usr/local/lib/python3.6/dist-packages (from resemblyzer) (1.6.0+cu101)\n",
            "Requirement already satisfied: scipy>=1.2.1 in /usr/local/lib/python3.6/dist-packages (from resemblyzer) (1.4.1)\n",
            "Requirement already satisfied: librosa>=0.6.1 in /usr/local/lib/python3.6/dist-packages (from resemblyzer) (0.6.3)\n",
            "Collecting typing\n",
            "\u001b[?25l  Downloading https://files.pythonhosted.org/packages/05/d9/6eebe19d46bd05360c9a9aae822e67a80f9242aabbfc58b641b957546607/typing-3.7.4.3.tar.gz (78kB)\n",
            "\u001b[K     |████████████████████████████████| 81kB 8.7MB/s \n",
            "\u001b[?25hRequirement already satisfied: numpy>=1.10.1 in /usr/local/lib/python3.6/dist-packages (from resemblyzer) (1.18.5)\n",
            "Requirement already satisfied: future in /usr/local/lib/python3.6/dist-packages (from torch>=1.0.1->resemblyzer) (0.16.0)\n",
            "Requirement already satisfied: joblib>=0.12 in /usr/local/lib/python3.6/dist-packages (from librosa>=0.6.1->resemblyzer) (0.16.0)\n",
            "Requirement already satisfied: decorator>=3.0.0 in /usr/local/lib/python3.6/dist-packages (from librosa>=0.6.1->resemblyzer) (4.4.2)\n",
            "Requirement already satisfied: resampy>=0.2.0 in /usr/local/lib/python3.6/dist-packages (from librosa>=0.6.1->resemblyzer) (0.2.2)\n",
            "Requirement already satisfied: numba>=0.38.0 in /usr/local/lib/python3.6/dist-packages (from librosa>=0.6.1->resemblyzer) (0.48.0)\n",
            "Requirement already satisfied: audioread>=2.0.0 in /usr/local/lib/python3.6/dist-packages (from librosa>=0.6.1->resemblyzer) (2.1.8)\n",
            "Requirement already satisfied: six>=1.3 in /usr/local/lib/python3.6/dist-packages (from librosa>=0.6.1->resemblyzer) (1.15.0)\n",
            "Requirement already satisfied: scikit-learn!=0.19.0,>=0.14.0 in /usr/local/lib/python3.6/dist-packages (from librosa>=0.6.1->resemblyzer) (0.22.2.post1)\n",
            "Requirement already satisfied: llvmlite<0.32.0,>=0.31.0dev0 in /usr/local/lib/python3.6/dist-packages (from numba>=0.38.0->librosa>=0.6.1->resemblyzer) (0.31.0)\n",
            "Requirement already satisfied: setuptools in /usr/local/lib/python3.6/dist-packages (from numba>=0.38.0->librosa>=0.6.1->resemblyzer) (50.3.0)\n",
            "Building wheels for collected packages: webrtcvad, typing\n",
            "  Building wheel for webrtcvad (setup.py) ... \u001b[?25l\u001b[?25hdone\n",
            "  Created wheel for webrtcvad: filename=webrtcvad-2.0.10-cp36-cp36m-linux_x86_64.whl size=71357 sha256=463b350e58ea9c1742ef267f5d8afc66033ab8c6cb64fc32ef898e2753f472ff\n",
            "  Stored in directory: /root/.cache/pip/wheels/44/2a/18/bd1aec41cac7c3051fe95d92a6ed446122ea31dc713c432fa1\n",
            "  Building wheel for typing (setup.py) ... \u001b[?25l\u001b[?25hdone\n",
            "  Created wheel for typing: filename=typing-3.7.4.3-cp36-none-any.whl size=26307 sha256=d57a5e8d1a602e4a18bec78983a5fcbc9f588c083130cb4f5978a654e31577e9\n",
            "  Stored in directory: /root/.cache/pip/wheels/2d/04/41/8e1836e79581989c22eebac3f4e70aaac9af07b0908da173be\n",
            "Successfully built webrtcvad typing\n",
            "Installing collected packages: webrtcvad, typing, resemblyzer\n",
            "Successfully installed resemblyzer-0.1.1.dev0 typing-3.7.4.3 webrtcvad-2.0.10\n"
          ],
          "name": "stdout"
        },
        {
          "output_type": "display_data",
          "data": {
            "application/vnd.colab-display-data+json": {
              "pip_warning": {
                "packages": [
                  "typing"
                ]
              }
            }
          },
          "metadata": {
            "tags": []
          }
        }
      ]
    },
    {
      "cell_type": "code",
      "metadata": {
        "id": "JfXk_mYTQdRo"
      },
      "source": [
        "from resemblyzer import VoiceEncoder, preprocess_wav\n",
        "import numpy as np\n",
        "from umap import UMAP\n",
        "import matplotlib.pyplot as plt\n",
        "import librosa\n",
        "import os\n",
        "import sys\n",
        "import pickle as pkl\n",
        "import pyaudio\n",
        "import wave\n",
        "import struct"
      ],
      "execution_count": 1,
      "outputs": []
    },
    {
      "cell_type": "code",
      "metadata": {
        "id": "QCGYpSxKQn9N"
      },
      "source": [
        "encoder = VoiceEncoder()\n",
        "reducer = pkl.load(open('reducer.sav','rb'))\n",
        "knn = pkl.load(open('knn_model.sav','rb'))\n",
        "projs = np.load('projections.npy')\n",
        "labels = np.load('labels.npy')"
      ],
      "execution_count": null,
      "outputs": []
    },
    {
      "cell_type": "code",
      "metadata": {
        "id": "a4jQxIGJRj1v"
      },
      "source": [
        "fs=16000\n",
        "FRAMESIZE = 1024\n",
        "FORMAT = pyaudio.paInt16\n",
        "CHANNELS = 1\n",
        "RATE = 16000\n",
        "RECORD_SECONDS = 10\n",
        "NOFRAMES = int(RATE*RECORD_SECONDS // FRAMESIZE)\n",
        "p = pyaudio.PyAudio()"
      ],
      "execution_count": null,
      "outputs": []
    },
    {
      "cell_type": "code",
      "metadata": {
        "id": "CbrN59DWRo5R"
      },
      "source": [
        "fig = plt.figure()\n",
        "plt.ion()\n",
        "ax = fig.add_subplot(111)\n",
        "ax.scatter(projs[:,0],projs[:,1],c=labels)\n",
        "plt.draw()"
      ],
      "execution_count": null,
      "outputs": []
    },
    {
      "cell_type": "code",
      "metadata": {
        "id": "YjOIHb5-Rxhf"
      },
      "source": [
        "val=True\n",
        "while(val):\n",
        "    print('recording')\n",
        "    stream = p.open(format=FORMAT,channels=1,rate=RATE,input=True,frames_per_buffer=FRAMESIZE)\n",
        "    data = stream.read(NOFRAMES*FRAMESIZE)\n",
        "    decoded = np.frombuffer(data, dtype=np.int16)\n",
        "    stream.stop_stream()\n",
        "    stream.close()\n",
        "\n",
        "    embed = encoder.embed_utterance(decoded/np.max(decoded))\n",
        "    proj = reducer.transform([embed])\n",
        "    print(knn.predict(proj))\n",
        "    ax.scatter(proj[0][0],proj[0][1],color='black',marker='+')\n",
        "    plt.draw()\n",
        "\n",
        "    val = input(\"Continue? yes or no: \")\n",
        "    if val.capitalize() != 'Yes': val = False\n",
        "\n",
        "p.terminate()\n",
        "plt.close()"
      ],
      "execution_count": null,
      "outputs": []
    }
  ]
}